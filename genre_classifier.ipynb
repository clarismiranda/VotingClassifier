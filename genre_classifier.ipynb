{
 "cells": [
  {
   "cell_type": "code",
   "execution_count": 9,
   "metadata": {
    "_cell_guid": "b1076dfc-b9ad-4769-8c92-a6c4dae69d19",
    "_uuid": "8f2839f25d086af736a60e9eeb907d3b93b6e0e5"
   },
   "outputs": [],
   "source": [
    "# This Python 3 environment comes with many helpful analytics libraries installed\n",
    "# It is defined by the kaggle/python docker image: https://github.com/kaggle/docker-python\n",
    "# For example, here's several helpful packages to load in \n",
    "\n",
    "import warnings\n",
    "import numpy as np # linear algebra\n",
    "import pandas as pd # data processing, CSV file I/O (e.g. pd.read_csv)\n",
    "import sklearn as sk\n",
    "import langid\n",
    "\n",
    "from sklearn import preprocessing\n",
    "from sklearn.model_selection import train_test_split\n",
    "from sklearn.utils import shuffle\n",
    "from sklearn.feature_extraction.text import TfidfVectorizer\n",
    "from sklearn.linear_model import LogisticRegression\n",
    "from sklearn import metrics"
   ]
  },
  {
   "cell_type": "code",
   "execution_count": 10,
   "metadata": {
    "_cell_guid": "79c7e3d0-c299-4dcb-8224-4455121ee9b0",
    "_uuid": "d629ff2d2480ee46fbb7e2d37f6b5fab8052498a"
   },
   "outputs": [
    {
     "name": "stdout",
     "output_type": "stream",
     "text": [
      "(362237, 6)\n"
     ]
    },
    {
     "data": {
      "text/html": [
       "<div>\n",
       "<style scoped>\n",
       "    .dataframe tbody tr th:only-of-type {\n",
       "        vertical-align: middle;\n",
       "    }\n",
       "\n",
       "    .dataframe tbody tr th {\n",
       "        vertical-align: top;\n",
       "    }\n",
       "\n",
       "    .dataframe thead th {\n",
       "        text-align: right;\n",
       "    }\n",
       "</style>\n",
       "<table border=\"1\" class=\"dataframe\">\n",
       "  <thead>\n",
       "    <tr style=\"text-align: right;\">\n",
       "      <th></th>\n",
       "      <th>index</th>\n",
       "      <th>song</th>\n",
       "      <th>year</th>\n",
       "      <th>artist</th>\n",
       "      <th>genre</th>\n",
       "      <th>lyrics</th>\n",
       "    </tr>\n",
       "  </thead>\n",
       "  <tbody>\n",
       "    <tr>\n",
       "      <th>0</th>\n",
       "      <td>0</td>\n",
       "      <td>ego-remix</td>\n",
       "      <td>2009</td>\n",
       "      <td>beyonce-knowles</td>\n",
       "      <td>Pop</td>\n",
       "      <td>Oh baby, how you doing?\\nYou know I'm gonna cu...</td>\n",
       "    </tr>\n",
       "    <tr>\n",
       "      <th>1</th>\n",
       "      <td>1</td>\n",
       "      <td>then-tell-me</td>\n",
       "      <td>2009</td>\n",
       "      <td>beyonce-knowles</td>\n",
       "      <td>Pop</td>\n",
       "      <td>playin' everything so easy,\\nit's like you see...</td>\n",
       "    </tr>\n",
       "    <tr>\n",
       "      <th>2</th>\n",
       "      <td>2</td>\n",
       "      <td>honesty</td>\n",
       "      <td>2009</td>\n",
       "      <td>beyonce-knowles</td>\n",
       "      <td>Pop</td>\n",
       "      <td>If you search\\nFor tenderness\\nIt isn't hard t...</td>\n",
       "    </tr>\n",
       "    <tr>\n",
       "      <th>3</th>\n",
       "      <td>3</td>\n",
       "      <td>you-are-my-rock</td>\n",
       "      <td>2009</td>\n",
       "      <td>beyonce-knowles</td>\n",
       "      <td>Pop</td>\n",
       "      <td>Oh oh oh I, oh oh oh I\\n[Verse 1:]\\nIf I wrote...</td>\n",
       "    </tr>\n",
       "    <tr>\n",
       "      <th>4</th>\n",
       "      <td>4</td>\n",
       "      <td>black-culture</td>\n",
       "      <td>2009</td>\n",
       "      <td>beyonce-knowles</td>\n",
       "      <td>Pop</td>\n",
       "      <td>Party the people, the people the party it's po...</td>\n",
       "    </tr>\n",
       "    <tr>\n",
       "      <th>5</th>\n",
       "      <td>5</td>\n",
       "      <td>all-i-could-do-was-cry</td>\n",
       "      <td>2009</td>\n",
       "      <td>beyonce-knowles</td>\n",
       "      <td>Pop</td>\n",
       "      <td>I heard\\nChurch bells ringing\\nI heard\\nA choi...</td>\n",
       "    </tr>\n",
       "    <tr>\n",
       "      <th>6</th>\n",
       "      <td>6</td>\n",
       "      <td>once-in-a-lifetime</td>\n",
       "      <td>2009</td>\n",
       "      <td>beyonce-knowles</td>\n",
       "      <td>Pop</td>\n",
       "      <td>This is just another day that I would spend\\nW...</td>\n",
       "    </tr>\n",
       "    <tr>\n",
       "      <th>7</th>\n",
       "      <td>7</td>\n",
       "      <td>waiting</td>\n",
       "      <td>2009</td>\n",
       "      <td>beyonce-knowles</td>\n",
       "      <td>Pop</td>\n",
       "      <td>Waiting, waiting, waiting, waiting\\nWaiting, w...</td>\n",
       "    </tr>\n",
       "    <tr>\n",
       "      <th>8</th>\n",
       "      <td>8</td>\n",
       "      <td>slow-love</td>\n",
       "      <td>2009</td>\n",
       "      <td>beyonce-knowles</td>\n",
       "      <td>Pop</td>\n",
       "      <td>[Verse 1:]\\nI read all of the magazines\\nwhile...</td>\n",
       "    </tr>\n",
       "    <tr>\n",
       "      <th>9</th>\n",
       "      <td>9</td>\n",
       "      <td>why-don-t-you-love-me</td>\n",
       "      <td>2009</td>\n",
       "      <td>beyonce-knowles</td>\n",
       "      <td>Pop</td>\n",
       "      <td>N-n-now, honey\\nYou better sit down and look a...</td>\n",
       "    </tr>\n",
       "  </tbody>\n",
       "</table>\n",
       "</div>"
      ],
      "text/plain": [
       "   index                    song  year           artist genre  \\\n",
       "0      0               ego-remix  2009  beyonce-knowles   Pop   \n",
       "1      1            then-tell-me  2009  beyonce-knowles   Pop   \n",
       "2      2                 honesty  2009  beyonce-knowles   Pop   \n",
       "3      3         you-are-my-rock  2009  beyonce-knowles   Pop   \n",
       "4      4           black-culture  2009  beyonce-knowles   Pop   \n",
       "5      5  all-i-could-do-was-cry  2009  beyonce-knowles   Pop   \n",
       "6      6      once-in-a-lifetime  2009  beyonce-knowles   Pop   \n",
       "7      7                 waiting  2009  beyonce-knowles   Pop   \n",
       "8      8               slow-love  2009  beyonce-knowles   Pop   \n",
       "9      9   why-don-t-you-love-me  2009  beyonce-knowles   Pop   \n",
       "\n",
       "                                              lyrics  \n",
       "0  Oh baby, how you doing?\\nYou know I'm gonna cu...  \n",
       "1  playin' everything so easy,\\nit's like you see...  \n",
       "2  If you search\\nFor tenderness\\nIt isn't hard t...  \n",
       "3  Oh oh oh I, oh oh oh I\\n[Verse 1:]\\nIf I wrote...  \n",
       "4  Party the people, the people the party it's po...  \n",
       "5  I heard\\nChurch bells ringing\\nI heard\\nA choi...  \n",
       "6  This is just another day that I would spend\\nW...  \n",
       "7  Waiting, waiting, waiting, waiting\\nWaiting, w...  \n",
       "8  [Verse 1:]\\nI read all of the magazines\\nwhile...  \n",
       "9  N-n-now, honey\\nYou better sit down and look a...  "
      ]
     },
     "execution_count": 10,
     "metadata": {},
     "output_type": "execute_result"
    }
   ],
   "source": [
    "data = pd.read_csv(\"lyrics.csv\")\n",
    "print(data.shape)\n",
    "data.head(10)"
   ]
  },
  {
   "cell_type": "code",
   "execution_count": 11,
   "metadata": {},
   "outputs": [],
   "source": [
    "def removeNumbers(lyric):\n",
    "    return ''.join(x for x in lyric if not x.isnumeric())"
   ]
  },
  {
   "cell_type": "code",
   "execution_count": 21,
   "metadata": {},
   "outputs": [],
   "source": [
    "def clean_data(data):\n",
    "    data = data[(data['genre'] != 'Not Available') & (data['genre'] != 'Other' )]\n",
    "    data = data.dropna(subset=['genre', 'lyrics'])\n",
    "    data[\"lyrics\"] = data[\"lyrics\"].apply(removeNumbers)\n",
    "    data[\"language\"] = data[\"lyrics\"].apply(lambda x: ' '.join(x.split()[10:15]))\n",
    "    data[\"language\"] = data[\"language\"].apply(langid.classify)\n",
    "    data = data[['en' in lang for lang in data['language']]]\n",
    "    return data"
   ]
  },
  {
   "cell_type": "code",
   "execution_count": 13,
   "metadata": {},
   "outputs": [],
   "source": [
    "def balance_data(data,genre):\n",
    "    data_selected = data[(data['genre'] == genre)]\n",
    "    data_selected[\"genre\"] = 1\n",
    "    data_adverse = data[(data['genre'] != genre)]\n",
    "    data_adverse[\"genre\"] = 0\n",
    "    selected_train, selected_test = train_test_split(data_selected, test_size=0.2)\n",
    "    data_adverse = data_adverse.sample(n=len(data_selected), random_state=1)\n",
    "    adverse_train, adverse_test = train_test_split(data_adverse, test_size=0.2)\n",
    "    selected_train = selected_train.append(adverse_train, ignore_index = True)\n",
    "    selected_test = selected_test.append(adverse_test, ignore_index = True)\n",
    "    selected_train = shuffle(selected_train)\n",
    "    selected_test = shuffle(selected_test)\n",
    "    return selected_train[\"lyrics\"], selected_test[\"lyrics\"],  selected_train[\"genre\"], selected_test[\"genre\"]"
   ]
  },
  {
   "cell_type": "code",
   "execution_count": 14,
   "metadata": {},
   "outputs": [],
   "source": [
    "def regression_classifier(data,genre):\n",
    "    docs_train, docs_test, y_train, y_test = balance_data(data,genre)\n",
    "    docs_train = docs_train.append(docs_test)\n",
    "    y_train = y_train.append(y_test)\n",
    "    vectorizer = TfidfVectorizer()\n",
    "    X_train = vectorizer.fit_transform(docs_train)\n",
    "    logisReg = LogisticRegression(random_state=0, solver='liblinear', multi_class='ovr').fit(X_train, y_train)\n",
    "    return (genre, logisReg, vectorizer)"
   ]
  },
  {
   "cell_type": "code",
   "execution_count": 15,
   "metadata": {},
   "outputs": [],
   "source": [
    "def genre_classifiers(data):\n",
    "    genre_list = np.unique(data['genre'])\n",
    "    return [regression_classifier(data,genre) for genre in genre_list]"
   ]
  },
  {
   "cell_type": "code",
   "execution_count": 16,
   "metadata": {},
   "outputs": [],
   "source": [
    "def make_prediction(song, classifiers):\n",
    "    max_prob = 0\n",
    "    best_genre = None\n",
    "    for genre,lr,vectorizer in classifiers:\n",
    "        X_song = vectorizer.transform(song)\n",
    "        aux_prob = lr.predict_proba(X_song)[:,1]\n",
    "        if max_prob<aux_prob:\n",
    "            max_prob = aux_prob\n",
    "            best_genre = genre\n",
    "    return best_genre"
   ]
  },
  {
   "cell_type": "code",
   "execution_count": 24,
   "metadata": {},
   "outputs": [],
   "source": [
    "from sklearn.metrics import classification_report, confusion_matrix\n",
    "def print_measures(songs, classifiers, data_validation):\n",
    "    predictions = []\n",
    "    \n",
    "    for song in songs:\n",
    "        song = [song]\n",
    "        predictions.append(make_prediction(song,classifiers))\n",
    "    sum_right = 0\n",
    "    \n",
    "    for i in range(0,len(data_validation['genre'])):\n",
    "        if predictions[i] == data_validation['genre'].iloc[i]:\n",
    "            sum_right = sum_right + 1\n",
    "    print(\"Accuracy:\\n\", sum_right/len((data_validation['genre'])))\n",
    "    print(\"Confusion Matrix:\\n\", confusion_matrix(predictions, data_validation['genre']))\n",
    "    print(\"Classification Report:\\n\", classification_report(predictions, data_validation['genre']))\n",
    "    \n",
    "    return predictions"
   ]
  },
  {
   "cell_type": "code",
   "execution_count": 18,
   "metadata": {},
   "outputs": [],
   "source": [
    "from sklearn.linear_model import LogisticRegression\n",
    "from sklearn import preprocessing\n",
    "from sklearn import metrics\n",
    "\n",
    "def sklearn_ovr_model(data_train, data_validation):\n",
    "    y_train = data_train[\"genre\"]\n",
    "    y_test = data_validation[\"genre\"]\n",
    "    docs_train = data_train[\"lyrics\"]\n",
    "    docs_test = data_validation[\"lyrics\"]\n",
    "\n",
    "    genre_list = np.unique(data[\"genre\"])\n",
    "    enc = preprocessing.LabelEncoder()\n",
    "    enc.fit(genre_list)\n",
    "    y_train = enc.transform(y_train)\n",
    "    y_test = enc.transform(y_test)\n",
    "\n",
    "    vectorizer = TfidfVectorizer()\n",
    "    X_train = vectorizer.fit_transform(docs_train)\n",
    "    logisReg = LogisticRegression(random_state=0, solver='liblinear', multi_class='ovr').fit(X_train, y_train)\n",
    "    X_test = vectorizer.transform(docs_test)\n",
    "    y_hat = logisReg.predict(X_test)\n",
    "\n",
    "    print(\"Logistic Regression accuracy is: \", metrics.accuracy_score(y_test, y_hat))\n",
    "    print(\"Confusion Matrix:\\n\", confusion_matrix(predictions, data_validation['genre']))\n",
    "    print(\"Classification Report:\\n\", classification_report(y_test, y_hat))\n",
    "    \n",
    "    return y_test, y_hat"
   ]
  },
  {
   "cell_type": "code",
   "execution_count": 19,
   "metadata": {},
   "outputs": [],
   "source": [
    "import matplotlib.pyplot as plt\n",
    "\n",
    "from sklearn.metrics import confusion_matrix\n",
    "from sklearn.utils.multiclass import unique_labels\n",
    "\n",
    "\n",
    "def plot_confusion_matrix(y_true, y_pred, classes,\n",
    "                          normalize=False,\n",
    "                          title=None,\n",
    "                          cmap=plt.cm.Blues):\n",
    "    \"\"\"\n",
    "    This function prints and plots the confusion matrix.\n",
    "    Normalization can be applied by setting `normalize=True`.\n",
    "    \"\"\"\n",
    "    if not title:\n",
    "        if normalize:\n",
    "            title = 'Normalized confusion matrix'\n",
    "        else:\n",
    "            title = 'Confusion matrix, without normalization'\n",
    "\n",
    "    # Compute confusion matrix\n",
    "    cm = confusion_matrix(y_true, y_pred)\n",
    "    # Only use the labels that appear in the data\n",
    "    classes = classes[unique_labels(y_true, y_pred)]\n",
    "    if normalize:\n",
    "        cm = cm.astype('float') / cm.sum(axis=1)[:, np.newaxis]\n",
    "        print(\"Normalized confusion matrix\")\n",
    "    else:\n",
    "        print('Confusion matrix, without normalization')\n",
    "\n",
    "    print(cm)\n",
    "\n",
    "    fig, ax = plt.subplots()\n",
    "    im = ax.imshow(cm, interpolation='nearest', cmap=cmap)\n",
    "    ax.figure.colorbar(im, ax=ax)\n",
    "    # We want to show all ticks...\n",
    "    ax.set(xticks=np.arange(cm.shape[1]),\n",
    "           yticks=np.arange(cm.shape[0]),\n",
    "           # ... and label them with the respective list entries\n",
    "           xticklabels=classes, yticklabels=classes,\n",
    "           title=title,\n",
    "           ylabel='True label',\n",
    "           xlabel='Predicted label')\n",
    "\n",
    "    # Rotate the tick labels and set their alignment.\n",
    "    plt.setp(ax.get_xticklabels(), rotation=45, ha=\"right\",\n",
    "             rotation_mode=\"anchor\")\n",
    "\n",
    "    # Loop over data dimensions and create text annotations.\n",
    "    fmt = '.2f' if normalize else 'd'\n",
    "    thresh = cm.max() / 2.\n",
    "    for i in range(cm.shape[0]):\n",
    "        for j in range(cm.shape[1]):\n",
    "            ax.text(j, i, format(cm[i, j], fmt),\n",
    "                    ha=\"center\", va=\"center\",\n",
    "                    color=\"white\" if cm[i, j] > thresh else \"black\")\n",
    "    fig.tight_layout()\n",
    "    \n",
    "    return ax"
   ]
  },
  {
   "cell_type": "code",
   "execution_count": 22,
   "metadata": {},
   "outputs": [
    {
     "name": "stderr",
     "output_type": "stream",
     "text": [
      "/anaconda3/lib/python3.7/site-packages/ipykernel_launcher.py:3: SettingWithCopyWarning: \n",
      "A value is trying to be set on a copy of a slice from a DataFrame.\n",
      "Try using .loc[row_indexer,col_indexer] = value instead\n",
      "\n",
      "See the caveats in the documentation: http://pandas.pydata.org/pandas-docs/stable/indexing.html#indexing-view-versus-copy\n",
      "  This is separate from the ipykernel package so we can avoid doing imports until\n",
      "/anaconda3/lib/python3.7/site-packages/ipykernel_launcher.py:5: SettingWithCopyWarning: \n",
      "A value is trying to be set on a copy of a slice from a DataFrame.\n",
      "Try using .loc[row_indexer,col_indexer] = value instead\n",
      "\n",
      "See the caveats in the documentation: http://pandas.pydata.org/pandas-docs/stable/indexing.html#indexing-view-versus-copy\n",
      "  \"\"\"\n"
     ]
    }
   ],
   "source": [
    "# Use for evaluation purposes\n",
    "\n",
    "#data = clean_data(data)\n",
    "#genre_list = np.unique(data['genre'])\n",
    "#enc = preprocessing.LabelEncoder()\n",
    "#enc.fit(genre_list)\n",
    "#data_train, data_validation = train_test_split(data, test_size=0.2)\n",
    "#classifiers = [regression_classifier(data_train,genre) for genre in genre_list]"
   ]
  },
  {
   "cell_type": "code",
   "execution_count": 25,
   "metadata": {},
   "outputs": [
    {
     "name": "stdout",
     "output_type": "stream",
     "text": [
      "Accuracy:\n",
      " 0.45893526513077537\n",
      "Confusion Matrix:\n",
      " [[1608   42   53   53   51  224   37  617   54 1977]\n",
      " [  59  424   24  166   66   50  213  682   37 1632]\n",
      " [ 126  125  150   58   44   93  254  254   13 1190]\n",
      " [  21  112    5 3845   10   19   90  433   41  469]\n",
      " [  91   75   24   59  104   38   97  392   21 1333]\n",
      " [ 260   56   33   57   37  600   44  575   70 1093]\n",
      " [  39  146   21  100   30   20 3257  327   39 1990]\n",
      " [ 223  283   40  370   74  210  144 3132  114 2403]\n",
      " [ 119   75   12  122   26   99   50  566  144 1181]\n",
      " [ 373  293   74  153  208  145  549 1188  138 8529]]\n",
      "Classification Report:\n",
      "               precision    recall  f1-score   support\n",
      "\n",
      "     Country       0.55      0.34      0.42      4716\n",
      "  Electronic       0.26      0.13      0.17      3353\n",
      "        Folk       0.34      0.07      0.11      2307\n",
      "     Hip-Hop       0.77      0.76      0.77      5045\n",
      "       Indie       0.16      0.05      0.07      2234\n",
      "        Jazz       0.40      0.21      0.28      2825\n",
      "       Metal       0.69      0.55      0.61      5969\n",
      "         Pop       0.38      0.45      0.41      6993\n",
      "         R&B       0.21      0.06      0.09      2394\n",
      "        Rock       0.39      0.73      0.51     11650\n",
      "\n",
      "   micro avg       0.46      0.46      0.46     47486\n",
      "   macro avg       0.42      0.33      0.34     47486\n",
      "weighted avg       0.45      0.46      0.43     47486\n",
      "\n"
     ]
    },
    {
     "ename": "NameError",
     "evalue": "name 'enc' is not defined",
     "output_type": "error",
     "traceback": [
      "\u001b[0;31m---------------------------------------------------------------------------\u001b[0m",
      "\u001b[0;31mNameError\u001b[0m                                 Traceback (most recent call last)",
      "\u001b[0;32m<ipython-input-25-c0864baee7ca>\u001b[0m in \u001b[0;36m<module>\u001b[0;34m\u001b[0m\n\u001b[1;32m      1\u001b[0m \u001b[0;31m# Plot normalized confusion matrix manually balance\u001b[0m\u001b[0;34m\u001b[0m\u001b[0;34m\u001b[0m\u001b[0;34m\u001b[0m\u001b[0m\n\u001b[1;32m      2\u001b[0m \u001b[0mpredictions\u001b[0m \u001b[0;34m=\u001b[0m \u001b[0mprint_measures\u001b[0m\u001b[0;34m(\u001b[0m\u001b[0mdata_validation\u001b[0m\u001b[0;34m[\u001b[0m\u001b[0;34m'lyrics'\u001b[0m\u001b[0;34m]\u001b[0m\u001b[0;34m,\u001b[0m \u001b[0mclassifiers\u001b[0m\u001b[0;34m,\u001b[0m \u001b[0mdata_validation\u001b[0m\u001b[0;34m)\u001b[0m\u001b[0;34m\u001b[0m\u001b[0;34m\u001b[0m\u001b[0m\n\u001b[0;32m----> 3\u001b[0;31m \u001b[0mlabel_test\u001b[0m \u001b[0;34m=\u001b[0m \u001b[0menc\u001b[0m\u001b[0;34m.\u001b[0m\u001b[0mtransform\u001b[0m\u001b[0;34m(\u001b[0m\u001b[0mdata_validation\u001b[0m\u001b[0;34m[\u001b[0m\u001b[0;34m'genre'\u001b[0m\u001b[0;34m]\u001b[0m\u001b[0;34m)\u001b[0m\u001b[0;34m\u001b[0m\u001b[0;34m\u001b[0m\u001b[0m\n\u001b[0m\u001b[1;32m      4\u001b[0m \u001b[0mlabel_prediction\u001b[0m \u001b[0;34m=\u001b[0m \u001b[0menc\u001b[0m\u001b[0;34m.\u001b[0m\u001b[0mtransform\u001b[0m\u001b[0;34m(\u001b[0m\u001b[0mpredictions\u001b[0m\u001b[0;34m)\u001b[0m\u001b[0;34m\u001b[0m\u001b[0;34m\u001b[0m\u001b[0m\n\u001b[1;32m      5\u001b[0m plot_confusion_matrix(label_test, label_prediction, classes=genre_list, normalize=True,\n",
      "\u001b[0;31mNameError\u001b[0m: name 'enc' is not defined"
     ]
    }
   ],
   "source": [
    "# Plot normalized confusion matrix manually balance\n",
    "#predictions = print_measures(data_validation['lyrics'], classifiers, data_validation)\n",
    "#label_test = enc.transform(data_validation['genre'])\n",
    "#label_prediction = enc.transform(predictions)\n",
    "#plot_confusion_matrix(label_test, label_prediction, classes=genre_list, normalize=True,\n",
    "#                      title='Confusion matrix balance')\n",
    "\n",
    "#plt.show()"
   ]
  },
  {
   "cell_type": "code",
   "execution_count": 26,
   "metadata": {},
   "outputs": [
    {
     "name": "stdout",
     "output_type": "stream",
     "text": [
      "Normalized confusion matrix\n",
      "[[0.55087359 0.0202124  0.04316547 0.00719424 0.03117506 0.0890716\n",
      "  0.01336074 0.07639603 0.04076739 0.12778349]\n",
      " [0.02575107 0.25996321 0.0766401  0.06866953 0.04598406 0.03433476\n",
      "  0.08951563 0.17351318 0.04598406 0.17964439]\n",
      " [0.12155963 0.05504587 0.3440367  0.01146789 0.05504587 0.07568807\n",
      "  0.04816514 0.09174312 0.02752294 0.16972477]\n",
      " [0.01063616 0.03331327 0.01163957 0.77162352 0.01184026 0.01143889\n",
      "  0.02006823 0.07425246 0.02448324 0.03070439]\n",
      " [0.07846154 0.10153846 0.06769231 0.01538462 0.16       0.05692308\n",
      "  0.04615385 0.11384615 0.04       0.32      ]\n",
      " [0.14953271 0.03337784 0.06208278 0.01268358 0.02536716 0.40053405\n",
      "  0.01335113 0.14018692 0.06608812 0.09679573]\n",
      " [0.00781415 0.04498416 0.05364308 0.01900739 0.02048574 0.0092925\n",
      "  0.68785639 0.03041183 0.01055966 0.11594509]\n",
      " [0.07555719 0.08351702 0.03110458 0.05302474 0.04800392 0.07041391\n",
      "  0.04004409 0.38354151 0.06931178 0.14548126]\n",
      " [0.0804769  0.05514158 0.01937407 0.06110283 0.03129657 0.10432191\n",
      "  0.05812221 0.16989568 0.21460507 0.20566319]\n",
      " [0.09070056 0.07487269 0.05459467 0.02151672 0.0611552  0.05014452\n",
      "  0.09129697 0.11024453 0.05418177 0.39129238]]\n"
     ]
    },
    {
     "data": {
      "image/png": "[encoded data removed]",
      "text/plain": [
       "<Figure size 432x288 with 2 Axes>"
      ]
     },
     "metadata": {
      "needs_background": "light"
     },
     "output_type": "display_data"
    }
   ],
   "source": [
    "#enc = preprocessing.LabelEncoder()\n",
    "#enc.fit(genre_list)\n",
    "#label_test = enc.transform(data_validation['genre'])\n",
    "#label_prediction = enc.transform(predictions)\n",
    "#plot_confusion_matrix(label_test, label_prediction, classes=genre_list, normalize=True,\n",
    "#                      title='Confusion matrix balance')\n",
    "\n",
    "#plt.show()"
   ]
  },
  {
   "cell_type": "code",
   "execution_count": 27,
   "metadata": {},
   "outputs": [
    {
     "name": "stdout",
     "output_type": "stream",
     "text": [
      "Logistic Regression accuracy is:  0.6148759634418566\n",
      "Confusion Matrix:\n",
      " [[1608   42   53   53   51  224   37  617   54 1977]\n",
      " [  59  424   24  166   66   50  213  682   37 1632]\n",
      " [ 126  125  150   58   44   93  254  254   13 1190]\n",
      " [  21  112    5 3845   10   19   90  433   41  469]\n",
      " [  91   75   24   59  104   38   97  392   21 1333]\n",
      " [ 260   56   33   57   37  600   44  575   70 1093]\n",
      " [  39  146   21  100   30   20 3257  327   39 1990]\n",
      " [ 223  283   40  370   74  210  144 3132  114 2403]\n",
      " [ 119   75   12  122   26   99   50  566  144 1181]\n",
      " [ 373  293   74  153  208  145  549 1188  138 8529]]\n"
     ]
    },
    {
     "name": "stderr",
     "output_type": "stream",
     "text": [
      "/anaconda3/lib/python3.7/site-packages/sklearn/metrics/classification.py:1143: UndefinedMetricWarning: Precision and F-score are ill-defined and being set to 0.0 in labels with no predicted samples.\n",
      "  'precision', 'predicted', average, warn_for)\n"
     ]
    },
    {
     "name": "stdout",
     "output_type": "stream",
     "text": [
      "Classification Report:\n",
      "               precision    recall  f1-score   support\n",
      "\n",
      "           0       0.62      0.24      0.34      2919\n",
      "           1       0.79      0.02      0.03      1631\n",
      "           2       0.94      0.04      0.07       436\n",
      "           3       0.84      0.73      0.79      4983\n",
      "           4       0.00      0.00      0.00       650\n",
      "           5       0.59      0.14      0.22      1498\n",
      "           6       0.76      0.51      0.61      4735\n",
      "           7       0.52      0.32      0.40      8166\n",
      "           8       1.00      0.03      0.05       671\n",
      "           9       0.59      0.90      0.71     21797\n",
      "\n",
      "   micro avg       0.61      0.61      0.61     47486\n",
      "   macro avg       0.66      0.29      0.32     47486\n",
      "weighted avg       0.63      0.61      0.57     47486\n",
      "\n",
      "Normalized confusion matrix\n",
      "[[2.36724906e-01 0.00000000e+00 0.00000000e+00 3.08324769e-03\n",
      "  0.00000000e+00 9.24974306e-03 5.82391230e-03 6.09797876e-02\n",
      "  0.00000000e+00 6.84138404e-01]\n",
      " [1.22624157e-03 1.59411404e-02 0.00000000e+00 5.27283875e-02\n",
      "  0.00000000e+00 6.13120785e-04 2.39117106e-02 1.50827713e-01\n",
      "  0.00000000e+00 7.54751686e-01]\n",
      " [2.29357798e-02 0.00000000e+00 3.66972477e-02 9.17431193e-03\n",
      "  0.00000000e+00 4.58715596e-03 2.29357798e-02 9.17431193e-02\n",
      "  0.00000000e+00 8.11926606e-01]\n",
      " [1.20409392e-03 4.01364640e-04 0.00000000e+00 7.33694562e-01\n",
      "  0.00000000e+00 6.02046960e-04 5.61910496e-03 6.92354004e-02\n",
      "  0.00000000e+00 1.89243428e-01]\n",
      " [1.53846154e-03 0.00000000e+00 0.00000000e+00 6.15384615e-03\n",
      "  0.00000000e+00 3.07692308e-03 9.23076923e-03 7.38461538e-02\n",
      "  0.00000000e+00 9.06153846e-01]\n",
      " [3.87182911e-02 0.00000000e+00 0.00000000e+00 6.67556742e-03\n",
      "  0.00000000e+00 1.38184246e-01 4.67289720e-03 1.51535381e-01\n",
      "  0.00000000e+00 6.60213618e-01]\n",
      " [8.44772967e-04 0.00000000e+00 0.00000000e+00 1.47835269e-02\n",
      "  0.00000000e+00 2.11193242e-04 5.09398099e-01 1.85850053e-02\n",
      "  0.00000000e+00 4.56177402e-01]\n",
      " [9.91917708e-03 3.67376929e-04 1.22458976e-04 3.52681852e-02\n",
      "  0.00000000e+00 4.28606417e-03 1.05314720e-02 3.22434484e-01\n",
      "  0.00000000e+00 6.17070781e-01]\n",
      " [1.19225037e-02 0.00000000e+00 0.00000000e+00 4.02384501e-02\n",
      "  0.00000000e+00 8.94187779e-03 1.19225037e-02 1.68405365e-01\n",
      "  2.53353204e-02 7.33233979e-01]\n",
      " [1.15612240e-02 9.17557462e-05 0.00000000e+00 8.07450567e-03\n",
      "  0.00000000e+00 3.02793962e-03 2.63797770e-02 5.44111575e-02\n",
      "  0.00000000e+00 8.96453640e-01]]\n"
     ]
    },
    {
     "data": {
      "image/png": "[encoded data removed]",
      "text/plain": [
       "<Figure size 432x288 with 2 Axes>"
      ]
     },
     "metadata": {
      "needs_background": "light"
     },
     "output_type": "display_data"
    }
   ],
   "source": [
    "# Plot normalized confusion matrix using sklearn model\n",
    "#y_test, y_hat = sklearn_ovr_model(data_train, data_validation)\n",
    "#plot_confusion_matrix(y_test, y_hat, classes=genre_list, normalize=True,\n",
    "                      title='Confusion matrix sklearn')\n",
    "\n",
    "#plt.show()"
   ]
  },
  {
   "cell_type": "code",
   "execution_count": null,
   "metadata": {},
   "outputs": [],
   "source": []
  }
 ],
 "metadata": {
  "kernelspec": {
   "display_name": "Python 3",
   "language": "python",
   "name": "python3"
  },
  "language_info": {
   "codemirror_mode": {
    "name": "ipython",
    "version": 3
   },
   "file_extension": ".py",
   "mimetype": "text/x-python",
   "name": "python",
   "nbconvert_exporter": "python",
   "pygments_lexer": "ipython3",
   "version": "3.7.1"
  }
 },
 "nbformat": 4,
 "nbformat_minor": 1
}
